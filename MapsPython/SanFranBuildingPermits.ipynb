{
 "cells": [
  {
   "cell_type": "markdown",
   "id": "1009d1ef-070d-4bd2-85fa-fd57774c59f4",
   "metadata": {},
   "source": [
    "# San Francisco, CA Building Permit Mapping"
   ]
  },
  {
   "cell_type": "markdown",
   "id": "1be9f9e6-2dc1-40c8-9331-87231ac85caf",
   "metadata": {},
   "source": [
    "## About Me\n",
    "> __Author__: Marcus Collins \\\n",
    "> __Date__: 2024-Sep-22"
   ]
  },
  {
   "cell_type": "markdown",
   "id": "609899bb-a4a1-432c-bb0c-cbf80e5e62ab",
   "metadata": {},
   "source": [
    "## Credits\n",
    "* __Data Source__: [San Francisco Building Permits OpenGov database](https://data.sfgov.org/Housing-and-Buildings/Building-Permits/i98e-djp9/data)"
   ]
  },
  {
   "cell_type": "markdown",
   "id": "98192549-2c26-4e8b-ba3f-a41eb171d36b",
   "metadata": {},
   "source": [
    "## [Introduction](top)\n",
    "This is meant to demonstrate mapping within Python specifically using Pandas, GeoJSON, Folium and GeoPandas"
   ]
  },
  {
   "cell_type": "markdown",
   "id": "9842b652-51db-417c-bddf-cf79842007be",
   "metadata": {},
   "source": [
    "## Code"
   ]
  },
  {
   "cell_type": "markdown",
   "id": "76256d60-28b8-4339-b618-0e81c28f5bdc",
   "metadata": {},
   "source": [
    "### Imports"
   ]
  },
  {
   "cell_type": "code",
   "execution_count": 1,
   "id": "71b151f7-76b8-4744-b153-3e7879a2098c",
   "metadata": {},
   "outputs": [],
   "source": [
    "## standard Python included imports\n",
    "import pathlib\n",
    "import re\n",
    "import glob\n",
    "\n",
    "## specially installed Python imports\n",
    "import numpy as np\n",
    "import pandas as pd\n",
    "import folium as FMap\n",
    "from IPython.display import display"
   ]
  },
  {
   "cell_type": "markdown",
   "id": "ac63a0ca-6a49-44b4-90af-05eef329cbf4",
   "metadata": {},
   "source": [
    "### Pathnames and Filenames"
   ]
  },
  {
   "cell_type": "code",
   "execution_count": null,
   "id": "17355c72-e1b2-41ba-9452-d4948a96a17a",
   "metadata": {},
   "outputs": [],
   "source": []
  },
  {
   "cell_type": "markdown",
   "id": "5775a6e8-9d76-40b5-a07d-e91351f2ddee",
   "metadata": {},
   "source": [
    "### Basic Map"
   ]
  },
  {
   "cell_type": "code",
   "execution_count": 12,
   "id": "2c5db5d5-c32f-4cf0-b8eb-313bbd0814cd",
   "metadata": {},
   "outputs": [
    {
     "data": {
      "text/html": [
       "<div style=\"width:100%;\"><div style=\"position:relative;width:100%;height:0;padding-bottom:60%;\"><span style=\"color:#565656\">Make this Notebook Trusted to load map: File -> Trust Notebook</span><iframe srcdoc=\"&lt;!DOCTYPE html&gt;\n",
       "&lt;html&gt;\n",
       "&lt;head&gt;\n",
       "    \n",
       "    &lt;meta http-equiv=&quot;content-type&quot; content=&quot;text/html; charset=UTF-8&quot; /&gt;\n",
       "    \n",
       "        &lt;script&gt;\n",
       "            L_NO_TOUCH = false;\n",
       "            L_DISABLE_3D = false;\n",
       "        &lt;/script&gt;\n",
       "    \n",
       "    &lt;style&gt;html, body {width: 100%;height: 100%;margin: 0;padding: 0;}&lt;/style&gt;\n",
       "    &lt;style&gt;#map {position:absolute;top:0;bottom:0;right:0;left:0;}&lt;/style&gt;\n",
       "    &lt;script src=&quot;https://cdn.jsdelivr.net/npm/leaflet@1.9.3/dist/leaflet.js&quot;&gt;&lt;/script&gt;\n",
       "    &lt;script src=&quot;https://code.jquery.com/jquery-3.7.1.min.js&quot;&gt;&lt;/script&gt;\n",
       "    &lt;script src=&quot;https://cdn.jsdelivr.net/npm/bootstrap@5.2.2/dist/js/bootstrap.bundle.min.js&quot;&gt;&lt;/script&gt;\n",
       "    &lt;script src=&quot;https://cdnjs.cloudflare.com/ajax/libs/Leaflet.awesome-markers/2.0.2/leaflet.awesome-markers.js&quot;&gt;&lt;/script&gt;\n",
       "    &lt;link rel=&quot;stylesheet&quot; href=&quot;https://cdn.jsdelivr.net/npm/leaflet@1.9.3/dist/leaflet.css&quot;/&gt;\n",
       "    &lt;link rel=&quot;stylesheet&quot; href=&quot;https://cdn.jsdelivr.net/npm/bootstrap@5.2.2/dist/css/bootstrap.min.css&quot;/&gt;\n",
       "    &lt;link rel=&quot;stylesheet&quot; href=&quot;https://netdna.bootstrapcdn.com/bootstrap/3.0.0/css/bootstrap-glyphicons.css&quot;/&gt;\n",
       "    &lt;link rel=&quot;stylesheet&quot; href=&quot;https://cdn.jsdelivr.net/npm/@fortawesome/fontawesome-free@6.2.0/css/all.min.css&quot;/&gt;\n",
       "    &lt;link rel=&quot;stylesheet&quot; href=&quot;https://cdnjs.cloudflare.com/ajax/libs/Leaflet.awesome-markers/2.0.2/leaflet.awesome-markers.css&quot;/&gt;\n",
       "    &lt;link rel=&quot;stylesheet&quot; href=&quot;https://cdn.jsdelivr.net/gh/python-visualization/folium/folium/templates/leaflet.awesome.rotate.min.css&quot;/&gt;\n",
       "    \n",
       "            &lt;meta name=&quot;viewport&quot; content=&quot;width=device-width,\n",
       "                initial-scale=1.0, maximum-scale=1.0, user-scalable=no&quot; /&gt;\n",
       "            &lt;style&gt;\n",
       "                #map_16ebfbc0f0b3ad4a9cac94dcde3c2d07 {\n",
       "                    position: relative;\n",
       "                    width: 100.0%;\n",
       "                    height: 100.0%;\n",
       "                    left: 0.0%;\n",
       "                    top: 0.0%;\n",
       "                }\n",
       "                .leaflet-container { font-size: 1rem; }\n",
       "            &lt;/style&gt;\n",
       "        \n",
       "&lt;/head&gt;\n",
       "&lt;body&gt;\n",
       "    \n",
       "    \n",
       "            &lt;div class=&quot;folium-map&quot; id=&quot;map_16ebfbc0f0b3ad4a9cac94dcde3c2d07&quot; &gt;&lt;/div&gt;\n",
       "        \n",
       "&lt;/body&gt;\n",
       "&lt;script&gt;\n",
       "    \n",
       "    \n",
       "            var map_16ebfbc0f0b3ad4a9cac94dcde3c2d07 = L.map(\n",
       "                &quot;map_16ebfbc0f0b3ad4a9cac94dcde3c2d07&quot;,\n",
       "                {\n",
       "                    center: [37.75429983275193, -122.44652683825896],\n",
       "                    crs: L.CRS.EPSG3857,\n",
       "                    zoom: 12,\n",
       "                    zoomControl: true,\n",
       "                    preferCanvas: false,\n",
       "                    maxBound: true,\n",
       "                }\n",
       "            );\n",
       "\n",
       "            \n",
       "\n",
       "        \n",
       "    \n",
       "            var tile_layer_382f29406b61cfa703ea3d3f32ed87f2 = L.tileLayer(\n",
       "                &quot;https://tile.openstreetmap.org/{z}/{x}/{y}.png&quot;,\n",
       "                {&quot;attribution&quot;: &quot;\\u0026copy; \\u003ca href=\\&quot;https://www.openstreetmap.org/copyright\\&quot;\\u003eOpenStreetMap\\u003c/a\\u003e contributors&quot;, &quot;detectRetina&quot;: false, &quot;maxNativeZoom&quot;: 19, &quot;maxZoom&quot;: 19, &quot;minZoom&quot;: 0, &quot;noWrap&quot;: false, &quot;opacity&quot;: 1, &quot;subdomains&quot;: &quot;abc&quot;, &quot;tms&quot;: false}\n",
       "            );\n",
       "        \n",
       "    \n",
       "            tile_layer_382f29406b61cfa703ea3d3f32ed87f2.addTo(map_16ebfbc0f0b3ad4a9cac94dcde3c2d07);\n",
       "        \n",
       "&lt;/script&gt;\n",
       "&lt;/html&gt;\" style=\"position:absolute;width:100%;height:100%;left:0;top:0;border:none !important;\" allowfullscreen webkitallowfullscreen mozallowfullscreen></iframe></div></div>"
      ],
      "text/plain": [
       "<folium.folium.Map at 0x7e0fbff77650>"
      ]
     },
     "execution_count": 12,
     "metadata": {},
     "output_type": "execute_result"
    }
   ],
   "source": [
    "## set upper, lower bounds (latitudes {North,South}, longitudes {East,West}) for limiting map\n",
    "lat_min, lat_max = 37.54, 37.85\n",
    "lon_min, lon_max = -122.54, -122.33\n",
    "sfmap = FMap.Map(\n",
    "    location = (37.75429983275193, -122.44652683825896), \n",
    "    tiles = \"OpenStreetMap\",\n",
    "    max_bound = True,\n",
    "    min_lat = lat_min,\n",
    "    max_lat = lat_max,\n",
    "    min_lon = lon_min,\n",
    "    max_lon = lon_max,\n",
    "    zoom_start = 12\n",
    ")\n",
    "sfmap"
   ]
  },
  {
   "cell_type": "markdown",
   "id": "0f2effe3-77a0-4f66-8415-fb3ce90a697c",
   "metadata": {},
   "source": [
    "[Into - Top](#top)"
   ]
  },
  {
   "cell_type": "code",
   "execution_count": null,
   "id": "08711b0b-0ab0-4064-a545-93252b40e32f",
   "metadata": {},
   "outputs": [],
   "source": []
  }
 ],
 "metadata": {
  "kernelspec": {
   "display_name": "Python 3 (ipykernel)",
   "language": "python",
   "name": "python3"
  },
  "language_info": {
   "codemirror_mode": {
    "name": "ipython",
    "version": 3
   },
   "file_extension": ".py",
   "mimetype": "text/x-python",
   "name": "python",
   "nbconvert_exporter": "python",
   "pygments_lexer": "ipython3",
   "version": "3.12.3"
  }
 },
 "nbformat": 4,
 "nbformat_minor": 5
}
